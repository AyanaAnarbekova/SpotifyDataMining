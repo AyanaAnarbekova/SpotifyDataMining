{
 "cells": [
  {
   "cell_type": "code",
   "execution_count": 1,
   "id": "2663d423",
   "metadata": {},
   "outputs": [],
   "source": [
    "import pandas as pd\n",
    "import numpy as np\n",
    "import seaborn as sns\n",
    "import matplotlib.pyplot as plt"
   ]
  },
  {
   "cell_type": "code",
   "execution_count": 2,
   "id": "2a4de57f",
   "metadata": {
    "scrolled": true
   },
   "outputs": [
    {
     "data": {
      "text/html": [
       "<div>\n",
       "<style scoped>\n",
       "    .dataframe tbody tr th:only-of-type {\n",
       "        vertical-align: middle;\n",
       "    }\n",
       "\n",
       "    .dataframe tbody tr th {\n",
       "        vertical-align: top;\n",
       "    }\n",
       "\n",
       "    .dataframe thead th {\n",
       "        text-align: right;\n",
       "    }\n",
       "</style>\n",
       "<table border=\"1\" class=\"dataframe\">\n",
       "  <thead>\n",
       "    <tr style=\"text-align: right;\">\n",
       "      <th></th>\n",
       "      <th>id</th>\n",
       "      <th>name</th>\n",
       "      <th>popularity</th>\n",
       "      <th>duration_ms</th>\n",
       "      <th>explicit</th>\n",
       "      <th>artists</th>\n",
       "      <th>id_artists</th>\n",
       "      <th>release_date</th>\n",
       "      <th>danceability</th>\n",
       "      <th>energy</th>\n",
       "      <th>key</th>\n",
       "      <th>loudness</th>\n",
       "      <th>mode</th>\n",
       "      <th>speechiness</th>\n",
       "      <th>acousticness</th>\n",
       "      <th>instrumentalness</th>\n",
       "      <th>liveness</th>\n",
       "      <th>valence</th>\n",
       "      <th>tempo</th>\n",
       "      <th>time_signature</th>\n",
       "    </tr>\n",
       "  </thead>\n",
       "  <tbody>\n",
       "    <tr>\n",
       "      <th>586667</th>\n",
       "      <td>5rgu12WBIHQtvej2MdHSH0</td>\n",
       "      <td>云与海</td>\n",
       "      <td>50</td>\n",
       "      <td>258267</td>\n",
       "      <td>0</td>\n",
       "      <td>['阿YueYue']</td>\n",
       "      <td>['1QLBXKM5GCpyQQSVMNZqrZ']</td>\n",
       "      <td>2020-09-26</td>\n",
       "      <td>0.560</td>\n",
       "      <td>0.518</td>\n",
       "      <td>0</td>\n",
       "      <td>-7.471</td>\n",
       "      <td>0</td>\n",
       "      <td>0.0292</td>\n",
       "      <td>0.785</td>\n",
       "      <td>0.000000</td>\n",
       "      <td>0.0648</td>\n",
       "      <td>0.2110</td>\n",
       "      <td>131.896</td>\n",
       "      <td>4</td>\n",
       "    </tr>\n",
       "    <tr>\n",
       "      <th>586668</th>\n",
       "      <td>0NuWgxEp51CutD2pJoF4OM</td>\n",
       "      <td>blind</td>\n",
       "      <td>72</td>\n",
       "      <td>153293</td>\n",
       "      <td>0</td>\n",
       "      <td>['ROLE MODEL']</td>\n",
       "      <td>['1dy5WNgIKQU6ezkpZs4y8z']</td>\n",
       "      <td>2020-10-21</td>\n",
       "      <td>0.765</td>\n",
       "      <td>0.663</td>\n",
       "      <td>0</td>\n",
       "      <td>-5.223</td>\n",
       "      <td>1</td>\n",
       "      <td>0.0652</td>\n",
       "      <td>0.141</td>\n",
       "      <td>0.000297</td>\n",
       "      <td>0.0924</td>\n",
       "      <td>0.6860</td>\n",
       "      <td>150.091</td>\n",
       "      <td>4</td>\n",
       "    </tr>\n",
       "    <tr>\n",
       "      <th>586669</th>\n",
       "      <td>27Y1N4Q4U3EfDU5Ubw8ws2</td>\n",
       "      <td>What They'll Say About Us</td>\n",
       "      <td>70</td>\n",
       "      <td>187601</td>\n",
       "      <td>0</td>\n",
       "      <td>['FINNEAS']</td>\n",
       "      <td>['37M5pPGs6V1fchFJSgCguX']</td>\n",
       "      <td>2020-09-02</td>\n",
       "      <td>0.535</td>\n",
       "      <td>0.314</td>\n",
       "      <td>7</td>\n",
       "      <td>-12.823</td>\n",
       "      <td>0</td>\n",
       "      <td>0.0408</td>\n",
       "      <td>0.895</td>\n",
       "      <td>0.000150</td>\n",
       "      <td>0.0874</td>\n",
       "      <td>0.0663</td>\n",
       "      <td>145.095</td>\n",
       "      <td>4</td>\n",
       "    </tr>\n",
       "    <tr>\n",
       "      <th>586670</th>\n",
       "      <td>45XJsGpFTyzbzeWK8VzR8S</td>\n",
       "      <td>A Day At A Time</td>\n",
       "      <td>58</td>\n",
       "      <td>142003</td>\n",
       "      <td>0</td>\n",
       "      <td>['Gentle Bones', 'Clara Benin']</td>\n",
       "      <td>['4jGPdu95icCKVF31CcFKbS', '5ebPSE9YI5aLeZ1Z2g...</td>\n",
       "      <td>2021-03-05</td>\n",
       "      <td>0.696</td>\n",
       "      <td>0.615</td>\n",
       "      <td>10</td>\n",
       "      <td>-6.212</td>\n",
       "      <td>1</td>\n",
       "      <td>0.0345</td>\n",
       "      <td>0.206</td>\n",
       "      <td>0.000003</td>\n",
       "      <td>0.3050</td>\n",
       "      <td>0.4380</td>\n",
       "      <td>90.029</td>\n",
       "      <td>4</td>\n",
       "    </tr>\n",
       "    <tr>\n",
       "      <th>586671</th>\n",
       "      <td>5Ocn6dZ3BJFPWh4ylwFXtn</td>\n",
       "      <td>Mar de Emociones</td>\n",
       "      <td>38</td>\n",
       "      <td>214360</td>\n",
       "      <td>0</td>\n",
       "      <td>['Afrosound']</td>\n",
       "      <td>['0i4Qda0k4nf7jnNHmSNpYv']</td>\n",
       "      <td>2015-07-01</td>\n",
       "      <td>0.686</td>\n",
       "      <td>0.723</td>\n",
       "      <td>6</td>\n",
       "      <td>-7.067</td>\n",
       "      <td>1</td>\n",
       "      <td>0.0363</td>\n",
       "      <td>0.105</td>\n",
       "      <td>0.000000</td>\n",
       "      <td>0.2640</td>\n",
       "      <td>0.9750</td>\n",
       "      <td>112.204</td>\n",
       "      <td>4</td>\n",
       "    </tr>\n",
       "  </tbody>\n",
       "</table>\n",
       "</div>"
      ],
      "text/plain": [
       "                            id                       name  popularity  \\\n",
       "586667  5rgu12WBIHQtvej2MdHSH0                        云与海          50   \n",
       "586668  0NuWgxEp51CutD2pJoF4OM                      blind          72   \n",
       "586669  27Y1N4Q4U3EfDU5Ubw8ws2  What They'll Say About Us          70   \n",
       "586670  45XJsGpFTyzbzeWK8VzR8S            A Day At A Time          58   \n",
       "586671  5Ocn6dZ3BJFPWh4ylwFXtn           Mar de Emociones          38   \n",
       "\n",
       "        duration_ms  explicit                          artists  \\\n",
       "586667       258267         0                      ['阿YueYue']   \n",
       "586668       153293         0                   ['ROLE MODEL']   \n",
       "586669       187601         0                      ['FINNEAS']   \n",
       "586670       142003         0  ['Gentle Bones', 'Clara Benin']   \n",
       "586671       214360         0                    ['Afrosound']   \n",
       "\n",
       "                                               id_artists release_date  \\\n",
       "586667                         ['1QLBXKM5GCpyQQSVMNZqrZ']   2020-09-26   \n",
       "586668                         ['1dy5WNgIKQU6ezkpZs4y8z']   2020-10-21   \n",
       "586669                         ['37M5pPGs6V1fchFJSgCguX']   2020-09-02   \n",
       "586670  ['4jGPdu95icCKVF31CcFKbS', '5ebPSE9YI5aLeZ1Z2g...   2021-03-05   \n",
       "586671                         ['0i4Qda0k4nf7jnNHmSNpYv']   2015-07-01   \n",
       "\n",
       "        danceability  energy  key  loudness  mode  speechiness  acousticness  \\\n",
       "586667         0.560   0.518    0    -7.471     0       0.0292         0.785   \n",
       "586668         0.765   0.663    0    -5.223     1       0.0652         0.141   \n",
       "586669         0.535   0.314    7   -12.823     0       0.0408         0.895   \n",
       "586670         0.696   0.615   10    -6.212     1       0.0345         0.206   \n",
       "586671         0.686   0.723    6    -7.067     1       0.0363         0.105   \n",
       "\n",
       "        instrumentalness  liveness  valence    tempo  time_signature  \n",
       "586667          0.000000    0.0648   0.2110  131.896               4  \n",
       "586668          0.000297    0.0924   0.6860  150.091               4  \n",
       "586669          0.000150    0.0874   0.0663  145.095               4  \n",
       "586670          0.000003    0.3050   0.4380   90.029               4  \n",
       "586671          0.000000    0.2640   0.9750  112.204               4  "
      ]
     },
     "execution_count": 2,
     "metadata": {},
     "output_type": "execute_result"
    }
   ],
   "source": [
    "df=pd.read_csv(\"tracks.csv\")\n",
    "df.tail()"
   ]
  },
  {
   "cell_type": "markdown",
   "id": "d2cfa86f",
   "metadata": {},
   "source": [
    "Lets check whether the number of artists and id_artists coincides."
   ]
  },
  {
   "cell_type": "code",
   "execution_count": 3,
   "id": "ae6306ed",
   "metadata": {},
   "outputs": [],
   "source": [
    "import ast\n",
    "def get_list_from_str(string):\n",
    "    return ast.literal_eval(string)"
   ]
  },
  {
   "cell_type": "code",
   "execution_count": 4,
   "id": "e51bee3d",
   "metadata": {},
   "outputs": [
    {
     "name": "stdout",
     "output_type": "stream",
     "text": [
      "['Gentle Bones', 'Clara Benin']\n"
     ]
    }
   ],
   "source": [
    "print(get_list_from_str(df['artists'].iloc[586670]))"
   ]
  },
  {
   "cell_type": "code",
   "execution_count": 5,
   "id": "17631db8",
   "metadata": {},
   "outputs": [],
   "source": [
    "artists_number_1=df['artists'].apply(lambda x: len(get_list_from_str(x)))\n",
    "artists_number_2=df['id_artists'].apply(lambda x: len(get_list_from_str(x)))"
   ]
  },
  {
   "cell_type": "code",
   "execution_count": 6,
   "id": "6caaf73d",
   "metadata": {},
   "outputs": [
    {
     "data": {
      "text/plain": [
       "True"
      ]
     },
     "execution_count": 6,
     "metadata": {},
     "output_type": "execute_result"
    }
   ],
   "source": [
    "(artists_number_1==artists_number_2).all()"
   ]
  },
  {
   "cell_type": "markdown",
   "id": "029fd5be",
   "metadata": {},
   "source": [
    "Yes, it coincides"
   ]
  },
  {
   "cell_type": "markdown",
   "id": "b85684c2",
   "metadata": {},
   "source": [
    "Let's get dates from release_date to datetime format to extract the year, month and day separately"
   ]
  },
  {
   "cell_type": "code",
   "execution_count": 7,
   "id": "7b74a51d",
   "metadata": {},
   "outputs": [
    {
     "data": {
      "text/plain": [
       "0    1922-02-22\n",
       "1    1922-06-01\n",
       "2    1922-03-21\n",
       "3    1922-03-21\n",
       "4          1922\n",
       "Name: release_date, dtype: object"
      ]
     },
     "execution_count": 7,
     "metadata": {},
     "output_type": "execute_result"
    }
   ],
   "source": [
    "df['release_date'].iloc[:5]"
   ]
  },
  {
   "cell_type": "code",
   "execution_count": 40,
   "id": "0002a9bc",
   "metadata": {},
   "outputs": [],
   "source": [
    "dates=pd.to_datetime(df['release_date'])"
   ]
  },
  {
   "cell_type": "code",
   "execution_count": 41,
   "id": "d9fc6fbe",
   "metadata": {},
   "outputs": [
    {
     "data": {
      "text/plain": [
       "586662   2020-12-20\n",
       "586663   2020-12-29\n",
       "586664   2020-03-03\n",
       "586665   2020-03-20\n",
       "586666   2020-02-08\n",
       "586667   2020-09-26\n",
       "586668   2020-10-21\n",
       "586669   2020-09-02\n",
       "586670   2021-03-05\n",
       "586671   2015-07-01\n",
       "Name: release_date, dtype: datetime64[ns]"
      ]
     },
     "execution_count": 41,
     "metadata": {},
     "output_type": "execute_result"
    }
   ],
   "source": [
    "dates.iloc[-10:]"
   ]
  },
  {
   "cell_type": "code",
   "execution_count": 44,
   "id": "133f4cc6",
   "metadata": {},
   "outputs": [
    {
     "data": {
      "text/plain": [
       "1922"
      ]
     },
     "execution_count": 44,
     "metadata": {},
     "output_type": "execute_result"
    }
   ],
   "source": [
    "dates.iloc[0].year"
   ]
  },
  {
   "cell_type": "markdown",
   "id": "9064cc1c",
   "metadata": {},
   "source": [
    "Find songs by artists"
   ]
  },
  {
   "cell_type": "code",
   "execution_count": 64,
   "id": "0c0a5e7b",
   "metadata": {},
   "outputs": [],
   "source": [
    "df_len=len(df)"
   ]
  },
  {
   "cell_type": "code",
   "execution_count": 70,
   "id": "b9e209be",
   "metadata": {},
   "outputs": [
    {
     "data": {
      "text/plain": [
       "['Gentle Bones', 'Clara Benin']"
      ]
     },
     "execution_count": 70,
     "metadata": {},
     "output_type": "execute_result"
    }
   ],
   "source": [
    "get_list_from_str(df['artists'].iloc[586670])"
   ]
  },
  {
   "cell_type": "code",
   "execution_count": 111,
   "id": "4d409ac7",
   "metadata": {},
   "outputs": [],
   "source": [
    "def artist_found(pd_elem, artists):\n",
    "    return sum([art in pd_elem for art in artists])>0"
   ]
  },
  {
   "cell_type": "code",
   "execution_count": 174,
   "id": "e99184dd",
   "metadata": {},
   "outputs": [
    {
     "data": {
      "text/plain": [
       "True"
      ]
     },
     "execution_count": 174,
     "metadata": {},
     "output_type": "execute_result"
    }
   ],
   "source": [
    "artist_found(\"['Gentle Bones', 'Clara Benin']\", ['Clara Benine','Gentle Bone'])"
   ]
  },
  {
   "cell_type": "code",
   "execution_count": 123,
   "id": "5f6df985",
   "metadata": {},
   "outputs": [],
   "source": [
    "def find_by_some_artists(artists):\n",
    "    return df[[artist_found(df['artists'].iloc[i], artists) for i in range(df_len)]]"
   ]
  },
  {
   "cell_type": "code",
   "execution_count": 175,
   "id": "88035f96",
   "metadata": {
    "scrolled": false
   },
   "outputs": [
    {
     "data": {
      "text/html": [
       "<div>\n",
       "<style scoped>\n",
       "    .dataframe tbody tr th:only-of-type {\n",
       "        vertical-align: middle;\n",
       "    }\n",
       "\n",
       "    .dataframe tbody tr th {\n",
       "        vertical-align: top;\n",
       "    }\n",
       "\n",
       "    .dataframe thead th {\n",
       "        text-align: right;\n",
       "    }\n",
       "</style>\n",
       "<table border=\"1\" class=\"dataframe\">\n",
       "  <thead>\n",
       "    <tr style=\"text-align: right;\">\n",
       "      <th></th>\n",
       "      <th>id</th>\n",
       "      <th>name</th>\n",
       "      <th>popularity</th>\n",
       "      <th>duration_ms</th>\n",
       "      <th>explicit</th>\n",
       "      <th>artists</th>\n",
       "      <th>id_artists</th>\n",
       "      <th>release_date</th>\n",
       "      <th>danceability</th>\n",
       "      <th>energy</th>\n",
       "      <th>...</th>\n",
       "      <th>mode</th>\n",
       "      <th>speechiness</th>\n",
       "      <th>acousticness</th>\n",
       "      <th>instrumentalness</th>\n",
       "      <th>liveness</th>\n",
       "      <th>valence</th>\n",
       "      <th>tempo</th>\n",
       "      <th>time_signature</th>\n",
       "      <th>release_year</th>\n",
       "      <th>decades</th>\n",
       "    </tr>\n",
       "  </thead>\n",
       "  <tbody>\n",
       "    <tr>\n",
       "      <th>575443</th>\n",
       "      <td>04ldhfKQYUZKBCg1TcdoAU</td>\n",
       "      <td>Closure</td>\n",
       "      <td>36</td>\n",
       "      <td>222109</td>\n",
       "      <td>0</td>\n",
       "      <td>['Clara Benin']</td>\n",
       "      <td>['5ebPSE9YI5aLeZ1Z2gkqjn']</td>\n",
       "      <td>2014</td>\n",
       "      <td>0.572</td>\n",
       "      <td>0.2820</td>\n",
       "      <td>...</td>\n",
       "      <td>1</td>\n",
       "      <td>0.0380</td>\n",
       "      <td>0.8360</td>\n",
       "      <td>0.000000</td>\n",
       "      <td>0.1150</td>\n",
       "      <td>0.380</td>\n",
       "      <td>76.485</td>\n",
       "      <td>4</td>\n",
       "      <td>2014</td>\n",
       "      <td>2010</td>\n",
       "    </tr>\n",
       "    <tr>\n",
       "      <th>575452</th>\n",
       "      <td>74gmYHHKVjnah9FCVOi4Mg</td>\n",
       "      <td>Tila</td>\n",
       "      <td>47</td>\n",
       "      <td>185875</td>\n",
       "      <td>0</td>\n",
       "      <td>['Clara Benin']</td>\n",
       "      <td>['5ebPSE9YI5aLeZ1Z2gkqjn']</td>\n",
       "      <td>2015-11-23</td>\n",
       "      <td>0.513</td>\n",
       "      <td>0.0640</td>\n",
       "      <td>...</td>\n",
       "      <td>1</td>\n",
       "      <td>0.0332</td>\n",
       "      <td>0.9610</td>\n",
       "      <td>0.000880</td>\n",
       "      <td>0.0996</td>\n",
       "      <td>0.314</td>\n",
       "      <td>139.893</td>\n",
       "      <td>4</td>\n",
       "      <td>2015</td>\n",
       "      <td>2010</td>\n",
       "    </tr>\n",
       "    <tr>\n",
       "      <th>575572</th>\n",
       "      <td>1d5BAYXRfjUfv8rqYkoxs1</td>\n",
       "      <td>Right Time</td>\n",
       "      <td>45</td>\n",
       "      <td>316133</td>\n",
       "      <td>0</td>\n",
       "      <td>['Johnoy Danao', 'Clara Benin']</td>\n",
       "      <td>['2zFBNsALb4M2FhKl98wcvd', '5ebPSE9YI5aLeZ1Z2g...</td>\n",
       "      <td>2016-09-23</td>\n",
       "      <td>0.639</td>\n",
       "      <td>0.2330</td>\n",
       "      <td>...</td>\n",
       "      <td>1</td>\n",
       "      <td>0.0302</td>\n",
       "      <td>0.9120</td>\n",
       "      <td>0.000034</td>\n",
       "      <td>0.1110</td>\n",
       "      <td>0.368</td>\n",
       "      <td>101.119</td>\n",
       "      <td>4</td>\n",
       "      <td>2016</td>\n",
       "      <td>2010</td>\n",
       "    </tr>\n",
       "    <tr>\n",
       "      <th>575663</th>\n",
       "      <td>3Qa2JS1RJGQFyIu1qmALjw</td>\n",
       "      <td>Fallin'</td>\n",
       "      <td>48</td>\n",
       "      <td>250813</td>\n",
       "      <td>0</td>\n",
       "      <td>['December Avenue', 'Clara Benin']</td>\n",
       "      <td>['4qFxP3qN9GsnZDOkAE6x2m', '5ebPSE9YI5aLeZ1Z2g...</td>\n",
       "      <td>2017-03-20</td>\n",
       "      <td>0.312</td>\n",
       "      <td>0.7850</td>\n",
       "      <td>...</td>\n",
       "      <td>0</td>\n",
       "      <td>0.0317</td>\n",
       "      <td>0.0378</td>\n",
       "      <td>0.000000</td>\n",
       "      <td>0.3500</td>\n",
       "      <td>0.438</td>\n",
       "      <td>83.564</td>\n",
       "      <td>4</td>\n",
       "      <td>2017</td>\n",
       "      <td>2010</td>\n",
       "    </tr>\n",
       "    <tr>\n",
       "      <th>575935</th>\n",
       "      <td>4cV4NoR8nFD6HPJij91NsF</td>\n",
       "      <td>Parallel Universe</td>\n",
       "      <td>49</td>\n",
       "      <td>264000</td>\n",
       "      <td>0</td>\n",
       "      <td>['Clara Benin']</td>\n",
       "      <td>['5ebPSE9YI5aLeZ1Z2gkqjn']</td>\n",
       "      <td>2019-10-01</td>\n",
       "      <td>0.538</td>\n",
       "      <td>0.0251</td>\n",
       "      <td>...</td>\n",
       "      <td>1</td>\n",
       "      <td>0.0374</td>\n",
       "      <td>0.5750</td>\n",
       "      <td>0.000015</td>\n",
       "      <td>0.1100</td>\n",
       "      <td>0.195</td>\n",
       "      <td>134.440</td>\n",
       "      <td>3</td>\n",
       "      <td>2019</td>\n",
       "      <td>2010</td>\n",
       "    </tr>\n",
       "    <tr>\n",
       "      <th>575958</th>\n",
       "      <td>2jHHaNZrgt506zDAKlhQr3</td>\n",
       "      <td>Solomon</td>\n",
       "      <td>48</td>\n",
       "      <td>378000</td>\n",
       "      <td>0</td>\n",
       "      <td>['Munimuni', 'Clara Benin']</td>\n",
       "      <td>['4eKq7eArL96wSQjaaMg9Ic', '5ebPSE9YI5aLeZ1Z2g...</td>\n",
       "      <td>2019-07-26</td>\n",
       "      <td>0.407</td>\n",
       "      <td>0.1970</td>\n",
       "      <td>...</td>\n",
       "      <td>1</td>\n",
       "      <td>0.0269</td>\n",
       "      <td>0.7440</td>\n",
       "      <td>0.003010</td>\n",
       "      <td>0.1010</td>\n",
       "      <td>0.114</td>\n",
       "      <td>71.021</td>\n",
       "      <td>4</td>\n",
       "      <td>2019</td>\n",
       "      <td>2010</td>\n",
       "    </tr>\n",
       "    <tr>\n",
       "      <th>586667</th>\n",
       "      <td>5rgu12WBIHQtvej2MdHSH0</td>\n",
       "      <td>云与海</td>\n",
       "      <td>50</td>\n",
       "      <td>258267</td>\n",
       "      <td>0</td>\n",
       "      <td>['阿YueYue']</td>\n",
       "      <td>['1QLBXKM5GCpyQQSVMNZqrZ']</td>\n",
       "      <td>2020-09-26</td>\n",
       "      <td>0.560</td>\n",
       "      <td>0.5180</td>\n",
       "      <td>...</td>\n",
       "      <td>0</td>\n",
       "      <td>0.0292</td>\n",
       "      <td>0.7850</td>\n",
       "      <td>0.000000</td>\n",
       "      <td>0.0648</td>\n",
       "      <td>0.211</td>\n",
       "      <td>131.896</td>\n",
       "      <td>4</td>\n",
       "      <td>2020</td>\n",
       "      <td>2020</td>\n",
       "    </tr>\n",
       "    <tr>\n",
       "      <th>586670</th>\n",
       "      <td>45XJsGpFTyzbzeWK8VzR8S</td>\n",
       "      <td>A Day At A Time</td>\n",
       "      <td>58</td>\n",
       "      <td>142003</td>\n",
       "      <td>0</td>\n",
       "      <td>['Gentle Bones', 'Clara Benin']</td>\n",
       "      <td>['4jGPdu95icCKVF31CcFKbS', '5ebPSE9YI5aLeZ1Z2g...</td>\n",
       "      <td>2021-03-05</td>\n",
       "      <td>0.696</td>\n",
       "      <td>0.6150</td>\n",
       "      <td>...</td>\n",
       "      <td>1</td>\n",
       "      <td>0.0345</td>\n",
       "      <td>0.2060</td>\n",
       "      <td>0.000003</td>\n",
       "      <td>0.3050</td>\n",
       "      <td>0.438</td>\n",
       "      <td>90.029</td>\n",
       "      <td>4</td>\n",
       "      <td>2021</td>\n",
       "      <td>2020</td>\n",
       "    </tr>\n",
       "  </tbody>\n",
       "</table>\n",
       "<p>8 rows × 22 columns</p>\n",
       "</div>"
      ],
      "text/plain": [
       "                            id               name  popularity  duration_ms  \\\n",
       "575443  04ldhfKQYUZKBCg1TcdoAU            Closure          36       222109   \n",
       "575452  74gmYHHKVjnah9FCVOi4Mg               Tila          47       185875   \n",
       "575572  1d5BAYXRfjUfv8rqYkoxs1         Right Time          45       316133   \n",
       "575663  3Qa2JS1RJGQFyIu1qmALjw            Fallin'          48       250813   \n",
       "575935  4cV4NoR8nFD6HPJij91NsF  Parallel Universe          49       264000   \n",
       "575958  2jHHaNZrgt506zDAKlhQr3            Solomon          48       378000   \n",
       "586667  5rgu12WBIHQtvej2MdHSH0                云与海          50       258267   \n",
       "586670  45XJsGpFTyzbzeWK8VzR8S    A Day At A Time          58       142003   \n",
       "\n",
       "        explicit                             artists  \\\n",
       "575443         0                     ['Clara Benin']   \n",
       "575452         0                     ['Clara Benin']   \n",
       "575572         0     ['Johnoy Danao', 'Clara Benin']   \n",
       "575663         0  ['December Avenue', 'Clara Benin']   \n",
       "575935         0                     ['Clara Benin']   \n",
       "575958         0         ['Munimuni', 'Clara Benin']   \n",
       "586667         0                         ['阿YueYue']   \n",
       "586670         0     ['Gentle Bones', 'Clara Benin']   \n",
       "\n",
       "                                               id_artists release_date  \\\n",
       "575443                         ['5ebPSE9YI5aLeZ1Z2gkqjn']         2014   \n",
       "575452                         ['5ebPSE9YI5aLeZ1Z2gkqjn']   2015-11-23   \n",
       "575572  ['2zFBNsALb4M2FhKl98wcvd', '5ebPSE9YI5aLeZ1Z2g...   2016-09-23   \n",
       "575663  ['4qFxP3qN9GsnZDOkAE6x2m', '5ebPSE9YI5aLeZ1Z2g...   2017-03-20   \n",
       "575935                         ['5ebPSE9YI5aLeZ1Z2gkqjn']   2019-10-01   \n",
       "575958  ['4eKq7eArL96wSQjaaMg9Ic', '5ebPSE9YI5aLeZ1Z2g...   2019-07-26   \n",
       "586667                         ['1QLBXKM5GCpyQQSVMNZqrZ']   2020-09-26   \n",
       "586670  ['4jGPdu95icCKVF31CcFKbS', '5ebPSE9YI5aLeZ1Z2g...   2021-03-05   \n",
       "\n",
       "        danceability  energy  ...  mode  speechiness  acousticness  \\\n",
       "575443         0.572  0.2820  ...     1       0.0380        0.8360   \n",
       "575452         0.513  0.0640  ...     1       0.0332        0.9610   \n",
       "575572         0.639  0.2330  ...     1       0.0302        0.9120   \n",
       "575663         0.312  0.7850  ...     0       0.0317        0.0378   \n",
       "575935         0.538  0.0251  ...     1       0.0374        0.5750   \n",
       "575958         0.407  0.1970  ...     1       0.0269        0.7440   \n",
       "586667         0.560  0.5180  ...     0       0.0292        0.7850   \n",
       "586670         0.696  0.6150  ...     1       0.0345        0.2060   \n",
       "\n",
       "        instrumentalness  liveness  valence    tempo  time_signature  \\\n",
       "575443          0.000000    0.1150    0.380   76.485               4   \n",
       "575452          0.000880    0.0996    0.314  139.893               4   \n",
       "575572          0.000034    0.1110    0.368  101.119               4   \n",
       "575663          0.000000    0.3500    0.438   83.564               4   \n",
       "575935          0.000015    0.1100    0.195  134.440               3   \n",
       "575958          0.003010    0.1010    0.114   71.021               4   \n",
       "586667          0.000000    0.0648    0.211  131.896               4   \n",
       "586670          0.000003    0.3050    0.438   90.029               4   \n",
       "\n",
       "        release_year  decades  \n",
       "575443          2014     2010  \n",
       "575452          2015     2010  \n",
       "575572          2016     2010  \n",
       "575663          2017     2010  \n",
       "575935          2019     2010  \n",
       "575958          2019     2010  \n",
       "586667          2020     2020  \n",
       "586670          2021     2020  \n",
       "\n",
       "[8 rows x 22 columns]"
      ]
     },
     "execution_count": 175,
     "metadata": {},
     "output_type": "execute_result"
    }
   ],
   "source": [
    "find_by_some_artists(['Clara Benin', '阿YueYue'])"
   ]
  },
  {
   "cell_type": "markdown",
   "id": "f9da09cf",
   "metadata": {},
   "source": [
    "Find dependence between popularity and year, and most occuring years of songs."
   ]
  },
  {
   "cell_type": "code",
   "execution_count": 127,
   "id": "f95f83ab",
   "metadata": {},
   "outputs": [],
   "source": [
    "df['release_year']=dates.apply(lambda x: x.year)"
   ]
  },
  {
   "cell_type": "code",
   "execution_count": 130,
   "id": "91dffe7b",
   "metadata": {},
   "outputs": [
    {
     "data": {
      "text/plain": [
       "586662    2020\n",
       "586663    2020\n",
       "586664    2020\n",
       "586665    2020\n",
       "586666    2020\n",
       "586667    2020\n",
       "586668    2020\n",
       "586669    2020\n",
       "586670    2021\n",
       "586671    2015\n",
       "Name: release_year, dtype: int64"
      ]
     },
     "execution_count": 130,
     "metadata": {},
     "output_type": "execute_result"
    }
   ],
   "source": [
    "df.release_year.iloc[-10:]"
   ]
  },
  {
   "cell_type": "code",
   "execution_count": 139,
   "id": "63e98d98",
   "metadata": {},
   "outputs": [
    {
     "data": {
      "text/plain": [
       "<AxesSubplot:>"
      ]
     },
     "execution_count": 139,
     "metadata": {},
     "output_type": "execute_result"
    },
    {
     "data": {
      "image/png": "[encoded data removed]",
      "text/plain": [
       "<Figure size 432x288 with 1 Axes>"
      ]
     },
     "metadata": {
      "needs_background": "light"
     },
     "output_type": "display_data"
    }
   ],
   "source": [
    "df.release_year.hist(bins=30)"
   ]
  },
  {
   "cell_type": "code",
   "execution_count": 141,
   "id": "c2c0f836",
   "metadata": {},
   "outputs": [
    {
     "data": {
      "text/plain": [
       "2020    13937\n",
       "1998    12485\n",
       "1999    12484\n",
       "1997    12349\n",
       "1996    12058\n",
       "        ...  \n",
       "1925      903\n",
       "1923      657\n",
       "1924      633\n",
       "1922      294\n",
       "1900        1\n",
       "Name: release_year, Length: 101, dtype: int64"
      ]
     },
     "execution_count": 141,
     "metadata": {},
     "output_type": "execute_result"
    }
   ],
   "source": [
    "df.release_year.value_counts()"
   ]
  },
  {
   "cell_type": "markdown",
   "id": "9a6e373b",
   "metadata": {},
   "source": [
    "Most of the songs are from 2020, 1998 and 1999 (maybe 90s). Is it true this fact represents the popularity of songs of these years? Or is it just choosen data with most of samples with these years?"
   ]
  },
  {
   "cell_type": "code",
   "execution_count": 142,
   "id": "64e1852d",
   "metadata": {},
   "outputs": [
    {
     "data": {
      "text/plain": [
       "<matplotlib.collections.PathCollection at 0x13e7f8940>"
      ]
     },
     "execution_count": 142,
     "metadata": {},
     "output_type": "execute_result"
    },
    {
     "data": {
      "image/png": "[encoded data removed]",
      "text/plain": [
       "<Figure size 432x288 with 1 Axes>"
      ]
     },
     "metadata": {
      "needs_background": "light"
     },
     "output_type": "display_data"
    }
   ],
   "source": [
    "plt.scatter(df.release_year, df.popularity)"
   ]
  },
  {
   "cell_type": "code",
   "execution_count": 144,
   "id": "ec4a2f72",
   "metadata": {},
   "outputs": [
    {
     "data": {
      "text/html": [
       "<div>\n",
       "<style scoped>\n",
       "    .dataframe tbody tr th:only-of-type {\n",
       "        vertical-align: middle;\n",
       "    }\n",
       "\n",
       "    .dataframe tbody tr th {\n",
       "        vertical-align: top;\n",
       "    }\n",
       "\n",
       "    .dataframe thead th {\n",
       "        text-align: right;\n",
       "    }\n",
       "</style>\n",
       "<table border=\"1\" class=\"dataframe\">\n",
       "  <thead>\n",
       "    <tr style=\"text-align: right;\">\n",
       "      <th></th>\n",
       "      <th>release_year</th>\n",
       "      <th>popularity</th>\n",
       "    </tr>\n",
       "  </thead>\n",
       "  <tbody>\n",
       "    <tr>\n",
       "      <th>release_year</th>\n",
       "      <td>1.000000</td>\n",
       "      <td>0.590921</td>\n",
       "    </tr>\n",
       "    <tr>\n",
       "      <th>popularity</th>\n",
       "      <td>0.590921</td>\n",
       "      <td>1.000000</td>\n",
       "    </tr>\n",
       "  </tbody>\n",
       "</table>\n",
       "</div>"
      ],
      "text/plain": [
       "              release_year  popularity\n",
       "release_year      1.000000    0.590921\n",
       "popularity        0.590921    1.000000"
      ]
     },
     "execution_count": 144,
     "metadata": {},
     "output_type": "execute_result"
    }
   ],
   "source": [
    "df[['release_year', 'popularity']].corr()"
   ]
  },
  {
   "cell_type": "markdown",
   "id": "b3f6c174",
   "metadata": {},
   "source": [
    "We see correlation=0.59. Seems year affects popularity of a song."
   ]
  },
  {
   "cell_type": "code",
   "execution_count": 165,
   "id": "bcf79eee",
   "metadata": {},
   "outputs": [],
   "source": [
    "df['decades']=df['release_year'].apply(lambda x: x//100*100+x%100//10*10)"
   ]
  },
  {
   "cell_type": "code",
   "execution_count": 166,
   "id": "226b8ea9",
   "metadata": {},
   "outputs": [
    {
     "data": {
      "text/plain": [
       "586662    2020\n",
       "586663    2020\n",
       "586664    2020\n",
       "586665    2020\n",
       "586666    2020\n",
       "586667    2020\n",
       "586668    2020\n",
       "586669    2020\n",
       "586670    2020\n",
       "586671    2010\n",
       "Name: decades, dtype: int64"
      ]
     },
     "execution_count": 166,
     "metadata": {},
     "output_type": "execute_result"
    }
   ],
   "source": [
    "df.decades[-10:]"
   ]
  },
  {
   "cell_type": "code",
   "execution_count": 171,
   "id": "5559e3eb",
   "metadata": {},
   "outputs": [
    {
     "name": "stderr",
     "output_type": "stream",
     "text": [
      "/Users/user/miniconda3/envs/dataMineVenv/lib/python3.9/site-packages/seaborn/_decorators.py:36: FutureWarning: Pass the following variables as keyword args: x, y. From version 0.12, the only valid positional argument will be `data`, and passing other arguments without an explicit keyword will result in an error or misinterpretation.\n",
      "  warnings.warn(\n"
     ]
    },
    {
     "data": {
      "image/png": "[encoded data removed]",
      "text/plain": [
       "<Figure size 432x288 with 1 Axes>"
      ]
     },
     "metadata": {
      "needs_background": "light"
     },
     "output_type": "display_data"
    }
   ],
   "source": [
    "sns.boxplot(df.decades, df.popularity)\n",
    "plt.show()"
   ]
  },
  {
   "cell_type": "markdown",
   "id": "4a3258b6",
   "metadata": {},
   "source": [
    "In general popularity of a song grows with respect to year. Therefore previous assumption seems to be wrong. In other words in our data there is a lot of unpopular 90s music."
   ]
  },
  {
   "cell_type": "code",
   "execution_count": 172,
   "id": "89a17fcd",
   "metadata": {},
   "outputs": [
    {
     "data": {
      "text/plain": [
       "0    560808\n",
       "1     25864\n",
       "Name: explicit, dtype: int64"
      ]
     },
     "execution_count": 172,
     "metadata": {},
     "output_type": "execute_result"
    }
   ],
   "source": [
    "df.explicit.value_counts()"
   ]
  },
  {
   "cell_type": "code",
   "execution_count": null,
   "id": "4f058ba9",
   "metadata": {},
   "outputs": [],
   "source": []
  }
 ],
 "metadata": {
  "kernelspec": {
   "display_name": "dataMineVenv",
   "language": "python",
   "name": "dataminevenv"
  },
  "language_info": {
   "codemirror_mode": {
    "name": "ipython",
    "version": 3
   },
   "file_extension": ".py",
   "mimetype": "text/x-python",
   "name": "python",
   "nbconvert_exporter": "python",
   "pygments_lexer": "ipython3",
   "version": "3.9.6"
  }
 },
 "nbformat": 4,
 "nbformat_minor": 5
}
